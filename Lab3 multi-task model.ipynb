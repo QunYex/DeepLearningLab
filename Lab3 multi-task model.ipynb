{
 "cells": [
  {
   "cell_type": "markdown",
   "metadata": {},
   "source": [
    "# Lab 3 Multi-Task Model\n",
    "## 03/20/2020\n",
    "## Zekai Wang, Xinqun Ye"
   ]
  },
  {
   "cell_type": "code",
   "execution_count": 3,
   "metadata": {},
   "outputs": [],
   "source": [
    "import numpy as np\n",
    "\n",
    "f = open('dataCHEMBL/data.csv', 'r', encoding=\"ISO-8859-1\")\n",
    "lines = f.readlines()\n",
    "f.close()\n",
    "\n",
    "\n",
    "flis = [] # will have [id, ic50_val, unit, target, smiles] \n",
    "\n",
    "for line in lines[1:]: # first line contains the headers (therefore skiped)\n",
    "    lis = line.strip().split(',')\n",
    "\n",
    "    if len(lis) < 36:\n",
    "        continue\n",
    "    \n",
    "    \n",
    "    #print (lis[0], lis[3], lis[8], lis[36])\n",
    "    # [id, ic50_val, unit, target, smiles]\n",
    "\n",
    "    flis.append([lis[0], lis[3], lis[4], lis[8], lis[36]])\n",
    "    #break\n",
    "\n",
    "# I have no idea why python adds \\x00 to each string\n",
    "# Therefore I removed it\n",
    "\n",
    "for i in range (len(flis)):\n",
    "    flis[i] = [j.replace('\\x00','') for j in flis[i]]\n",
    "    flis[i] = [j.replace('\"','') for j in flis[i]]\n",
    "\n",
    "# Some of the data have smiles or IC50 missing\n",
    "# So I removed them as well\n",
    "list1 = []\n",
    "for i in flis:\n",
    "    if len(i[1]) != 0 and len(i[-1]) != 0:\n",
    "        #print (i)\n",
    "        list1.append(i)\n",
    "\n",
    "X, t, y = [], [], []\n",
    "for i in list1:\n",
    "    if i[2] == 'nM':\n",
    "        if len(i[-1]) == 0 or len(i[-2]) ==0 or len(i[1]) ==0:\n",
    "            print ('Thers a problem !!')\n",
    "        X.append(i[-1])\n",
    "        t.append(i[-2])\n",
    "        y.append(i[1])\n",
    "\n",
    "# smiles is the string representation of each ligand\n",
    "# target is the protein where ligand binds (treat it as different schools)\n",
    "# ic50 is the score"
   ]
  },
  {
   "cell_type": "markdown",
   "metadata": {},
   "source": [
    "We can notice there are 67184 unique target in the our dataset. After we counted what number is for each targets. We find there are 100 targets who has ligand greater than 334. Therefore, we filter those 100 targets as our top 100 targets."
   ]
  },
  {
   "cell_type": "code",
   "execution_count": 4,
   "metadata": {},
   "outputs": [
    {
     "name": "stdout",
     "output_type": "stream",
     "text": [
      "There is 67184 unique target in our dataset\n"
     ]
    }
   ],
   "source": [
    "print('There is %d unique target in our dataset' %len(set(t)))"
   ]
  },
  {
   "cell_type": "code",
   "execution_count": 5,
   "metadata": {},
   "outputs": [
    {
     "name": "stdout",
     "output_type": "stream",
     "text": [
      "The 100th target(sorted by descending) has 334 ligand\n"
     ]
    }
   ],
   "source": [
    "#count by dictionary\n",
    "dict1 = {}\n",
    "for key in t:\n",
    "    dict1[key] = dict1.get(key,0) + 1\n",
    "    \n",
    "print('The 100th target(sorted by descending) has %d ligand'\n",
    "      %sorted(dict1.items(), key=lambda item:item[1],reverse=True)[99][1])"
   ]
  },
  {
   "cell_type": "code",
   "execution_count": 6,
   "metadata": {},
   "outputs": [],
   "source": [
    "#created a dataframe for smiles, target and ic50\n",
    "import pandas as pd\n",
    "d = {'smiles':X, 'target':t, 'ic50':y}\n",
    "df1 = pd.DataFrame(d)\n",
    "df1['ic50'] = df1['ic50'].astype('float')"
   ]
  },
  {
   "cell_type": "code",
   "execution_count": 7,
   "metadata": {},
   "outputs": [],
   "source": [
    "#get filtered dataframe\n",
    "df2 = pd.DataFrame()\n",
    "for i in range(len(df1['target'])):\n",
    "    if dict1[df1['target'][i]] > 333:\n",
    "        df2 = df2.append(df1[i:i+1])"
   ]
  },
  {
   "cell_type": "code",
   "execution_count": 8,
   "metadata": {},
   "outputs": [],
   "source": [
    "df2['index'] = range(df2.shape[0])\n",
    "df2 = df2.set_index('index')"
   ]
  },
  {
   "cell_type": "code",
   "execution_count": 9,
   "metadata": {},
   "outputs": [
    {
     "name": "stdout",
     "output_type": "stream",
     "text": [
      "<class 'pandas.core.frame.DataFrame'>\n",
      "Int64Index: 59839 entries, 0 to 59838\n",
      "Data columns (total 3 columns):\n",
      " #   Column  Non-Null Count  Dtype  \n",
      "---  ------  --------------  -----  \n",
      " 0   smiles  59839 non-null  object \n",
      " 1   target  59839 non-null  object \n",
      " 2   ic50    59839 non-null  float64\n",
      "dtypes: float64(1), object(2)\n",
      "memory usage: 1.8+ MB\n"
     ]
    }
   ],
   "source": [
    "df2.info()"
   ]
  },
  {
   "cell_type": "code",
   "execution_count": 10,
   "metadata": {},
   "outputs": [
    {
     "data": {
      "text/html": [
       "<div>\n",
       "<style scoped>\n",
       "    .dataframe tbody tr th:only-of-type {\n",
       "        vertical-align: middle;\n",
       "    }\n",
       "\n",
       "    .dataframe tbody tr th {\n",
       "        vertical-align: top;\n",
       "    }\n",
       "\n",
       "    .dataframe thead th {\n",
       "        text-align: right;\n",
       "    }\n",
       "</style>\n",
       "<table border=\"1\" class=\"dataframe\">\n",
       "  <thead>\n",
       "    <tr style=\"text-align: right;\">\n",
       "      <th></th>\n",
       "      <th>smiles</th>\n",
       "      <th>target</th>\n",
       "      <th>ic50</th>\n",
       "    </tr>\n",
       "    <tr>\n",
       "      <th>index</th>\n",
       "      <th></th>\n",
       "      <th></th>\n",
       "      <th></th>\n",
       "    </tr>\n",
       "  </thead>\n",
       "  <tbody>\n",
       "    <tr>\n",
       "      <th>0</th>\n",
       "      <td>COc1ccccc1CNC(=O)CCN2C(=O)Nc3ccccc3C2=O</td>\n",
       "      <td>CHEMBL3436040</td>\n",
       "      <td>12000.0</td>\n",
       "    </tr>\n",
       "    <tr>\n",
       "      <th>1</th>\n",
       "      <td>Cl.COc1ccc2nccc(C(O)C3CC4(CCN3CC4)C=C)c2c1</td>\n",
       "      <td>CHEMBL3436040</td>\n",
       "      <td>12000.0</td>\n",
       "    </tr>\n",
       "    <tr>\n",
       "      <th>2</th>\n",
       "      <td>Cn1c(nc2ccccc12)C(=O)c3cccc4ccccc34</td>\n",
       "      <td>CHEMBL3436040</td>\n",
       "      <td>12000.0</td>\n",
       "    </tr>\n",
       "    <tr>\n",
       "      <th>3</th>\n",
       "      <td>Cl.CN1C(=O)N(C)c2cc(CNCCNc3ccnc4cc(Cl)ccc34)ccc12</td>\n",
       "      <td>CHEMBL3436040</td>\n",
       "      <td>12000.0</td>\n",
       "    </tr>\n",
       "    <tr>\n",
       "      <th>4</th>\n",
       "      <td>COc1ccc(CNC(=O)C2=CC3=C(N=C4C=CC=CN4C3=O)N(CCc...</td>\n",
       "      <td>CHEMBL3436040</td>\n",
       "      <td>12000.0</td>\n",
       "    </tr>\n",
       "  </tbody>\n",
       "</table>\n",
       "</div>"
      ],
      "text/plain": [
       "                                                  smiles         target  \\\n",
       "index                                                                     \n",
       "0                COc1ccccc1CNC(=O)CCN2C(=O)Nc3ccccc3C2=O  CHEMBL3436040   \n",
       "1             Cl.COc1ccc2nccc(C(O)C3CC4(CCN3CC4)C=C)c2c1  CHEMBL3436040   \n",
       "2                    Cn1c(nc2ccccc12)C(=O)c3cccc4ccccc34  CHEMBL3436040   \n",
       "3      Cl.CN1C(=O)N(C)c2cc(CNCCNc3ccnc4cc(Cl)ccc34)ccc12  CHEMBL3436040   \n",
       "4      COc1ccc(CNC(=O)C2=CC3=C(N=C4C=CC=CN4C3=O)N(CCc...  CHEMBL3436040   \n",
       "\n",
       "          ic50  \n",
       "index           \n",
       "0      12000.0  \n",
       "1      12000.0  \n",
       "2      12000.0  \n",
       "3      12000.0  \n",
       "4      12000.0  "
      ]
     },
     "execution_count": 10,
     "metadata": {},
     "output_type": "execute_result"
    }
   ],
   "source": [
    "df2.head()"
   ]
  },
  {
   "cell_type": "markdown",
   "metadata": {},
   "source": [
    "## Binarize \n",
    "After we removed the instance whose ic50 between 300 and 10000, we have 17965 instances. Then, we binarize the ic50 into \"active\" and \"inactive\""
   ]
  },
  {
   "cell_type": "code",
   "execution_count": 11,
   "metadata": {},
   "outputs": [],
   "source": [
    "df3 = pd.DataFrame()\n",
    "for i in range(len(df2['target'])):\n",
    "    if df2['ic50'][i] <= 300 or df2['ic50'][i] >= 10000:\n",
    "        df3 = df3.append(df2[i:i+1])"
   ]
  },
  {
   "cell_type": "code",
   "execution_count": 12,
   "metadata": {},
   "outputs": [],
   "source": [
    "df3['index'] = range(df3.shape[0])\n",
    "df3 = df3.set_index('index')"
   ]
  },
  {
   "cell_type": "code",
   "execution_count": 13,
   "metadata": {},
   "outputs": [
    {
     "name": "stdout",
     "output_type": "stream",
     "text": [
      "<class 'pandas.core.frame.DataFrame'>\n",
      "Int64Index: 45440 entries, 0 to 45439\n",
      "Data columns (total 3 columns):\n",
      " #   Column  Non-Null Count  Dtype  \n",
      "---  ------  --------------  -----  \n",
      " 0   smiles  45440 non-null  object \n",
      " 1   target  45440 non-null  object \n",
      " 2   ic50    45440 non-null  float64\n",
      "dtypes: float64(1), object(2)\n",
      "memory usage: 1.4+ MB\n"
     ]
    }
   ],
   "source": [
    "df3.info()"
   ]
  },
  {
   "cell_type": "code",
   "execution_count": 14,
   "metadata": {},
   "outputs": [
    {
     "data": {
      "text/html": [
       "<div>\n",
       "<style scoped>\n",
       "    .dataframe tbody tr th:only-of-type {\n",
       "        vertical-align: middle;\n",
       "    }\n",
       "\n",
       "    .dataframe tbody tr th {\n",
       "        vertical-align: top;\n",
       "    }\n",
       "\n",
       "    .dataframe thead th {\n",
       "        text-align: right;\n",
       "    }\n",
       "</style>\n",
       "<table border=\"1\" class=\"dataframe\">\n",
       "  <thead>\n",
       "    <tr style=\"text-align: right;\">\n",
       "      <th></th>\n",
       "      <th>smiles</th>\n",
       "      <th>target</th>\n",
       "      <th>ic50</th>\n",
       "    </tr>\n",
       "    <tr>\n",
       "      <th>index</th>\n",
       "      <th></th>\n",
       "      <th></th>\n",
       "      <th></th>\n",
       "    </tr>\n",
       "  </thead>\n",
       "  <tbody>\n",
       "    <tr>\n",
       "      <th>45435</th>\n",
       "      <td>1.76</td>\n",
       "      <td>CHEMBL3887886</td>\n",
       "      <td>66.0</td>\n",
       "    </tr>\n",
       "    <tr>\n",
       "      <th>45436</th>\n",
       "      <td>9606</td>\n",
       "      <td>CHEMBL3887679</td>\n",
       "      <td>9.9</td>\n",
       "    </tr>\n",
       "    <tr>\n",
       "      <th>45437</th>\n",
       "      <td>S=P(N1CC1)(N2CC2)N3CC3</td>\n",
       "      <td>CHEMBL4017550</td>\n",
       "      <td>1000000.0</td>\n",
       "    </tr>\n",
       "    <tr>\n",
       "      <th>45438</th>\n",
       "      <td>CN(C)S(=O)(=O)c1ccc2Sc3ccccc3\\C(=C\\CCN4CCN(C)C...</td>\n",
       "      <td>CHEMBL4017550</td>\n",
       "      <td>30400.0</td>\n",
       "    </tr>\n",
       "    <tr>\n",
       "      <th>45439</th>\n",
       "      <td>CCS[C@@]1(CC[C@H]2[C@@H]3CCC4=CC(=O)C=C[C@]4(C...</td>\n",
       "      <td>CHEMBL4017550</td>\n",
       "      <td>10000.0</td>\n",
       "    </tr>\n",
       "  </tbody>\n",
       "</table>\n",
       "</div>"
      ],
      "text/plain": [
       "                                                  smiles         target  \\\n",
       "index                                                                     \n",
       "45435                                               1.76  CHEMBL3887886   \n",
       "45436                                               9606  CHEMBL3887679   \n",
       "45437                             S=P(N1CC1)(N2CC2)N3CC3  CHEMBL4017550   \n",
       "45438  CN(C)S(=O)(=O)c1ccc2Sc3ccccc3\\C(=C\\CCN4CCN(C)C...  CHEMBL4017550   \n",
       "45439  CCS[C@@]1(CC[C@H]2[C@@H]3CCC4=CC(=O)C=C[C@]4(C...  CHEMBL4017550   \n",
       "\n",
       "            ic50  \n",
       "index             \n",
       "45435       66.0  \n",
       "45436        9.9  \n",
       "45437  1000000.0  \n",
       "45438    30400.0  \n",
       "45439    10000.0  "
      ]
     },
     "execution_count": 14,
     "metadata": {},
     "output_type": "execute_result"
    }
   ],
   "source": [
    "df3.tail()"
   ]
  },
  {
   "cell_type": "code",
   "execution_count": 29,
   "metadata": {},
   "outputs": [],
   "source": [
    "for i in range(len(df3['target'])):\n",
    "    if df3.loc[i,'ic50'] >= 10000:\n",
    "        df3.loc[i,'Binary'] = 1\n",
    "    else:\n",
    "        df3.loc[i,'Binary'] = 0       "
   ]
  },
  {
   "cell_type": "code",
   "execution_count": 30,
   "metadata": {},
   "outputs": [
    {
     "data": {
      "text/html": [
       "<div>\n",
       "<style scoped>\n",
       "    .dataframe tbody tr th:only-of-type {\n",
       "        vertical-align: middle;\n",
       "    }\n",
       "\n",
       "    .dataframe tbody tr th {\n",
       "        vertical-align: top;\n",
       "    }\n",
       "\n",
       "    .dataframe thead th {\n",
       "        text-align: right;\n",
       "    }\n",
       "</style>\n",
       "<table border=\"1\" class=\"dataframe\">\n",
       "  <thead>\n",
       "    <tr style=\"text-align: right;\">\n",
       "      <th></th>\n",
       "      <th>smiles</th>\n",
       "      <th>target</th>\n",
       "      <th>ic50</th>\n",
       "      <th>Binary</th>\n",
       "    </tr>\n",
       "    <tr>\n",
       "      <th>index</th>\n",
       "      <th></th>\n",
       "      <th></th>\n",
       "      <th></th>\n",
       "      <th></th>\n",
       "    </tr>\n",
       "  </thead>\n",
       "  <tbody>\n",
       "    <tr>\n",
       "      <th>44440</th>\n",
       "      <td>0.29</td>\n",
       "      <td>CHEMBL3888383</td>\n",
       "      <td>25.5</td>\n",
       "      <td>0</td>\n",
       "    </tr>\n",
       "    <tr>\n",
       "      <th>44441</th>\n",
       "      <td>3.4</td>\n",
       "      <td>CHEMBL3887759</td>\n",
       "      <td>100.0</td>\n",
       "      <td>0</td>\n",
       "    </tr>\n",
       "    <tr>\n",
       "      <th>44442</th>\n",
       "      <td>HEK293</td>\n",
       "      <td>CHEMBL3889097</td>\n",
       "      <td>23.6</td>\n",
       "      <td>0</td>\n",
       "    </tr>\n",
       "    <tr>\n",
       "      <th>44443</th>\n",
       "      <td>HEK293</td>\n",
       "      <td>CHEMBL3889097</td>\n",
       "      <td>13.3</td>\n",
       "      <td>0</td>\n",
       "    </tr>\n",
       "    <tr>\n",
       "      <th>44444</th>\n",
       "      <td>Sunnyvale Calif.) equipped with voltage-senso...</td>\n",
       "      <td>CHEMBL3889155</td>\n",
       "      <td>20000.0</td>\n",
       "      <td>1</td>\n",
       "    </tr>\n",
       "    <tr>\n",
       "      <th>...</th>\n",
       "      <td>...</td>\n",
       "      <td>...</td>\n",
       "      <td>...</td>\n",
       "      <td>...</td>\n",
       "    </tr>\n",
       "    <tr>\n",
       "      <th>45435</th>\n",
       "      <td>1.76</td>\n",
       "      <td>CHEMBL3887886</td>\n",
       "      <td>66.0</td>\n",
       "      <td>0</td>\n",
       "    </tr>\n",
       "    <tr>\n",
       "      <th>45436</th>\n",
       "      <td>9606</td>\n",
       "      <td>CHEMBL3887679</td>\n",
       "      <td>9.9</td>\n",
       "      <td>0</td>\n",
       "    </tr>\n",
       "    <tr>\n",
       "      <th>45437</th>\n",
       "      <td>S=P(N1CC1)(N2CC2)N3CC3</td>\n",
       "      <td>CHEMBL4017550</td>\n",
       "      <td>1000000.0</td>\n",
       "      <td>1</td>\n",
       "    </tr>\n",
       "    <tr>\n",
       "      <th>45438</th>\n",
       "      <td>CN(C)S(=O)(=O)c1ccc2Sc3ccccc3\\C(=C\\CCN4CCN(C)C...</td>\n",
       "      <td>CHEMBL4017550</td>\n",
       "      <td>30400.0</td>\n",
       "      <td>1</td>\n",
       "    </tr>\n",
       "    <tr>\n",
       "      <th>45439</th>\n",
       "      <td>CCS[C@@]1(CC[C@H]2[C@@H]3CCC4=CC(=O)C=C[C@]4(C...</td>\n",
       "      <td>CHEMBL4017550</td>\n",
       "      <td>10000.0</td>\n",
       "      <td>1</td>\n",
       "    </tr>\n",
       "  </tbody>\n",
       "</table>\n",
       "<p>1000 rows × 4 columns</p>\n",
       "</div>"
      ],
      "text/plain": [
       "                                                  smiles         target  \\\n",
       "index                                                                     \n",
       "44440                                               0.29  CHEMBL3888383   \n",
       "44441                                                3.4  CHEMBL3887759   \n",
       "44442                                             HEK293  CHEMBL3889097   \n",
       "44443                                             HEK293  CHEMBL3889097   \n",
       "44444   Sunnyvale Calif.) equipped with voltage-senso...  CHEMBL3889155   \n",
       "...                                                  ...            ...   \n",
       "45435                                               1.76  CHEMBL3887886   \n",
       "45436                                               9606  CHEMBL3887679   \n",
       "45437                             S=P(N1CC1)(N2CC2)N3CC3  CHEMBL4017550   \n",
       "45438  CN(C)S(=O)(=O)c1ccc2Sc3ccccc3\\C(=C\\CCN4CCN(C)C...  CHEMBL4017550   \n",
       "45439  CCS[C@@]1(CC[C@H]2[C@@H]3CCC4=CC(=O)C=C[C@]4(C...  CHEMBL4017550   \n",
       "\n",
       "            ic50 Binary  \n",
       "index                    \n",
       "44440       25.5      0  \n",
       "44441      100.0      0  \n",
       "44442       23.6      0  \n",
       "44443       13.3      0  \n",
       "44444    20000.0      1  \n",
       "...          ...    ...  \n",
       "45435       66.0      0  \n",
       "45436        9.9      0  \n",
       "45437  1000000.0      1  \n",
       "45438    30400.0      1  \n",
       "45439    10000.0      1  \n",
       "\n",
       "[1000 rows x 4 columns]"
      ]
     },
     "execution_count": 30,
     "metadata": {},
     "output_type": "execute_result"
    }
   ],
   "source": [
    "df3.tail(1000)"
   ]
  },
  {
   "cell_type": "markdown",
   "metadata": {},
   "source": [
    "##  Featurize each ligand\n",
    "Since we have each single \"smiles\", we chose \"Chem.MolFromSmiles\" function to construct individual molecules. The result will return a rdkit.Chem.rdchem.Mol object, if successful, or None, if fail.  \n",
    "Then, we use Morgan Fingerprints (Circular Fingerprints) to calculate our molecules as bit vectors. For the \"GetMorganFingerprintAsBitVect\" function, we use radius = 2 and nBits = 1024.\n",
    "\n",
    "Reference: https://www.researchgate.net/post/How_to_calculate_circular_fingerprints_using_RDKit  \n"
   ]
  },
  {
   "cell_type": "code",
   "execution_count": 31,
   "metadata": {},
   "outputs": [],
   "source": [
    "from rdkit import Chem\n",
    "from rdkit.Chem import AllChem\n",
    "from rdkit.Chem.AtomPairs import Pairs"
   ]
  },
  {
   "cell_type": "code",
   "execution_count": 32,
   "metadata": {},
   "outputs": [
    {
     "data": {
      "text/plain": [
       "<rdkit.DataStructs.cDataStructs.ExplicitBitVect at 0x13f6089e0>"
      ]
     },
     "execution_count": 32,
     "metadata": {},
     "output_type": "execute_result"
    }
   ],
   "source": [
    "m = Chem.MolFromSmiles(df3['smiles'][100])\n",
    "AllChem.GetMorganFingerprintAsBitVect(m,2,nBits=1024)\n",
    "#Pairs.GetAtomPairFingerprintAsBitVect(m)"
   ]
  },
  {
   "cell_type": "code",
   "execution_count": 33,
   "metadata": {},
   "outputs": [
    {
     "name": "stdout",
     "output_type": "stream",
     "text": [
      "(45440, 1024)\n"
     ]
    }
   ],
   "source": [
    "#https://www.researchgate.net/post/How_to_calculate_circular_fingerprints_using_RDKit\n",
    "\n",
    "BinVecFeature, Error = [], []\n",
    "\n",
    "def GenerateVec(smiles):\n",
    "    m = Chem.MolFromSmiles(smiles)\n",
    "    \n",
    "    if m is None:\n",
    "        raise ValueError('This \"smiles\" cannot be converted into individual molecules', smiles)\n",
    "#    return Pairs.GetAtomPairFingerprintAsBitVect(m)\n",
    "\n",
    "    return AllChem.GetMorganFingerprintAsBitVect(m, radius=2, nBits=1024)\n",
    "\n",
    "for i in range (len(df3['smiles'])):\n",
    "    try:\n",
    "        st = GenerateVec(df3['smiles'][i]).ToBitString()\n",
    "    except ValueError:\n",
    "        Error.append(i)\n",
    "        \n",
    "    l = [int(j) for j in st]\n",
    "    BinVecFeature.append(l)\n",
    "    \n",
    "BinVecFeature = np.array(BinVecFeature)\n",
    "Error = set(Error) #13985 unique Error\n",
    "print (BinVecFeature.shape)\n",
    "\n",
    "#        m = Chem.MolFromSmiles(df3['target'][i])\n",
    "#        if m is None:\n",
    "#            raise ValueError('This \"smiles\" cannot be converted into individual molecules', df3['target'][i])\n",
    "#        st = AllChem.GetMorganFingerprintAsBitVect(m, radius=2, nBits=512).ToBitString()\n",
    "#        #st = Pairs.GetAtomPairFingerprintAsBitVect(m)"
   ]
  },
  {
   "cell_type": "code",
   "execution_count": 34,
   "metadata": {},
   "outputs": [],
   "source": [
    "X, task, score = [], [], []\n",
    "for i in range (len(df3['target'])):\n",
    "    if i in Error:\n",
    "        continue\n",
    "    X.append(BinVecFeature[i])\n",
    "    task.append(df3['target'][i])\n",
    "    score.append(df3['Binary'][i])\n",
    "\n",
    "        \n",
    "\n",
    "dict3 = {}\n",
    "for i in range (len(task)):\n",
    "    if task[i] in dict3:\n",
    "        dict3[task[i]].append(i)\n",
    "    else:\n",
    "        dict3[task[i]] = [i]\n",
    "        "
   ]
  },
  {
   "cell_type": "code",
   "execution_count": 35,
   "metadata": {},
   "outputs": [
    {
     "name": "stdout",
     "output_type": "stream",
     "text": [
      "We have an input array of shape: (31455, 1024)\n",
      "We have an output array of shape: (31455, 1)\n"
     ]
    }
   ],
   "source": [
    "X = np.array(X)\n",
    "y = np.array(score).reshape((-1, 1))\n",
    "print(\"We have an input array of shape:\", X.shape)\n",
    "print(\"We have an output array of shape:\", y.shape)"
   ]
  },
  {
   "cell_type": "code",
   "execution_count": 36,
   "metadata": {},
   "outputs": [
    {
     "name": "stdout",
     "output_type": "stream",
     "text": [
      "{'CHEMBL3436040': 423, 'CHEMBL1614547': 423, 'CHEMBL1614549': 305, 'CHEMBL1614359': 276, 'CHEMBL1119333': 314, 'CHEMBL1614423': 381, 'CHEMBL1614063': 740, 'CHEMBL1614432': 621, 'CHEMBL3431931': 369, 'CHEMBL2114719': 339, 'CHEMBL2114714': 1346, 'CHEMBL3436039': 428, 'CHEMBL3436041': 411, 'CHEMBL1738498': 647, 'CHEMBL1963965': 333, 'CHEMBL1964000': 367, 'CHEMBL2114818': 369, 'CHEMBL2114881': 2026, 'CHEMBL1613799': 571, 'CHEMBL1614199': 367, 'CHEMBL1614529': 164, 'CHEMBL1738424': 557, 'CHEMBL1006579': 271, 'CHEMBL1613885': 619, 'CHEMBL3706327': 475, 'CHEMBL3707950': 265, 'CHEMBL3705123': 577, 'CHEMBL3887033': 289, 'CHEMBL2354289': 152, 'CHEMBL2218781': 598, 'CHEMBL1963883': 1184, 'CHEMBL1964096': 373, 'CHEMBL1963941': 1185, 'CHEMBL1738407': 512, 'CHEMBL2114858': 170, 'CHEMBL3734252': 239, 'CHEMBL3562022': 708, 'CHEMBL3705306': 35, 'CHEMBL3431934': 391, 'CHEMBL1963971': 93, 'CHEMBL3734174': 299, 'CHEMBL3734165': 214, 'CHEMBL3880334': 390, 'CHEMBL3880346': 219, 'CHEMBL3880345': 550, 'CHEMBL3880337': 598, 'CHEMBL3879917': 24, 'CHEMBL3880347': 590, 'CHEMBL3881499': 625, 'CHEMBL3880341': 449, 'CHEMBL3880348': 470, 'CHEMBL3880339': 599, 'CHEMBL3880343': 580, 'CHEMBL3880344': 407, 'CHEMBL3880340': 548, 'CHEMBL3880349': 600, 'CHEMBL3880338': 593, 'CHEMBL3880342': 375, 'CHEMBL3880335': 390, 'CHEMBL3882754': 54, 'CHEMBL4028923': 610, 'CHEMBL4028922': 570, 'CHEMBL4017550': 612, 'CHEMBL4028921': 592, 'CHEMBL4028924': 584}\n"
     ]
    }
   ],
   "source": [
    "#count by dictionary\n",
    "#here we only have 65 unique task\n",
    "dict2 = {}\n",
    "for key in task:\n",
    "    dict2[key] = dict2.get(key,0) + 1\n",
    "print(dict2)"
   ]
  },
  {
   "cell_type": "markdown",
   "metadata": {},
   "source": [
    "## Multi-Task Model"
   ]
  },
  {
   "cell_type": "code",
   "execution_count": 37,
   "metadata": {},
   "outputs": [],
   "source": [
    "import scipy.io\n",
    "from sklearn.datasets.base import Bunch\n",
    "from matplotlib import pyplot as plt\n",
    "import numpy as np\n",
    "from sklearn.model_selection import train_test_split"
   ]
  },
  {
   "cell_type": "code",
   "execution_count": 38,
   "metadata": {},
   "outputs": [],
   "source": [
    "tasks = {}\n",
    "\n",
    "for i in dict3:\n",
    "    descr = \"CHEM data: Target {}\".format(i)\n",
    "    tid = \"Target {}\".format(i)\n",
    "#    tasks.append(Bunch(data=X[dict3[i]],\n",
    "#                       target=y[dict3[i]],\n",
    "#                       DESCR=descr,\n",
    "#                       ID=tid))\n",
    "    tasks[tid] = Bunch(data=X[dict3[i]],\n",
    "                       target=y[dict3[i]],\n",
    "                       DESCR=descr)"
   ]
  },
  {
   "cell_type": "code",
   "execution_count": 39,
   "metadata": {},
   "outputs": [],
   "source": [
    "from keras.layers import Input, Dense\n",
    "from keras.models import Model\n",
    "\n",
    "inputs = Input(shape=(X[0].shape[0],))\n",
    "shared_mlp = Dense(64, activation='relu')(inputs)\n",
    "shared_mlp = Dense(64, activation='relu')(shared_mlp)\n",
    "\n",
    "# make a dictionary of models for each task\n",
    "models_mtl = dict()\n",
    "\n",
    "for i in tasks.keys():\n",
    "    personal_layer = Dense(10, activation='relu')(shared_mlp)\n",
    "    output_layer = Dense(1)(personal_layer)\n",
    "    model = Model(inputs=inputs, outputs=output_layer)\n",
    "    model.compile(optimizer='sgd', loss='binary_crossentropy')\n",
    "    models_mtl[i] = model"
   ]
  },
  {
   "cell_type": "code",
   "execution_count": 40,
   "metadata": {},
   "outputs": [],
   "source": [
    "X_train = dict()\n",
    "y_train = dict()\n",
    "X_test = dict()\n",
    "y_test = dict()\n",
    "\n",
    "for x in tasks.keys():\n",
    "    X_train[x], X_test[x], y_train[x], y_test[x] = train_test_split(tasks[x].data, \n",
    "                                                        tasks[x].target, \n",
    "                                                        test_size=0.2, \n",
    "                                                        random_state=42)"
   ]
  },
  {
   "cell_type": "code",
   "execution_count": 41,
   "metadata": {},
   "outputs": [
    {
     "name": "stdout",
     "output_type": "stream",
     "text": [
      "Epoch 0, Epoch 1, Epoch 2, Epoch 3, Epoch 4, Epoch 5, Epoch 6, Epoch 7, Epoch 8, Epoch 9, Epoch 10, Epoch 11, Epoch 12, Epoch 13, Epoch 14, Epoch 15, Epoch 16, Epoch 17, Epoch 18, Epoch 19, CPU times: user 1min 26s, sys: 11 s, total: 1min 37s\n",
      "Wall time: 1min 13s\n"
     ]
    }
   ],
   "source": [
    "%%time\n",
    "EPOCHS = 20\n",
    "from random import shuffle\n",
    "\n",
    "all_keys = list(tasks.keys())\n",
    "for i in range(EPOCHS):\n",
    "    print('Epoch',i,end=', ')\n",
    "    shuffle(all_keys)\n",
    "    for x in all_keys:\n",
    "        models_mtl[x].fit(X_train[x],y_train[x], verbose=0)"
   ]
  },
  {
   "cell_type": "code",
   "execution_count": 42,
   "metadata": {},
   "outputs": [
    {
     "name": "stdout",
     "output_type": "stream",
     "text": [
      "CPU times: user 1.74 s, sys: 215 ms, total: 1.95 s\n",
      "Wall time: 1.77 s\n"
     ]
    }
   ],
   "source": [
    "%%time\n",
    "y_mtl=[]\n",
    "yhat_mtl=[]\n",
    "\n",
    "for x in X_test.keys():\n",
    "    yhat_mlp = models_mtl[x].predict(X_test[x])\n",
    "\n",
    "    y_mtl.append(y_test[x].ravel())\n",
    "    yhat_mtl.append(yhat_mlp.ravel())"
   ]
  }
 ],
 "metadata": {
  "kernelspec": {
   "display_name": "Python 3",
   "language": "python",
   "name": "python3"
  },
  "language_info": {
   "codemirror_mode": {
    "name": "ipython",
    "version": 3
   },
   "file_extension": ".py",
   "mimetype": "text/x-python",
   "name": "python",
   "nbconvert_exporter": "python",
   "pygments_lexer": "ipython3",
   "version": "3.7.1"
  }
 },
 "nbformat": 4,
 "nbformat_minor": 2
}
